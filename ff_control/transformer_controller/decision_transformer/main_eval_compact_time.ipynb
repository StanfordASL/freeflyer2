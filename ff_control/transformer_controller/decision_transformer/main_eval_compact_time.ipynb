{
 "cells": [
  {
   "cell_type": "code",
   "execution_count": null,
   "id": "70c80c8b-7510-4ad8-8735-46b1aa4509df",
   "metadata": {},
   "outputs": [],
   "source": [
    "import sys\n",
    "\n",
    "sys.path.append('..')\n",
    "\n",
    "import decision_transformer.manage_time as DT_manager\n",
    "%matplotlib ipympl"
   ]
  },
  {
   "cell_type": "code",
   "execution_count": null,
   "id": "e67614bd",
   "metadata": {},
   "outputs": [],
   "source": [
    "# Simulation configuration\n",
    "transformer_model_name = 'checkpoint_ff_time_chunk100_ctgrtg'\n",
    "import_config = DT_manager.transformer_import_config(transformer_model_name)"
   ]
  },
  {
   "cell_type": "code",
   "execution_count": null,
   "id": "3c4c6c84-629f-466b-9f00-6d1e1c7c2c91",
   "metadata": {},
   "outputs": [],
   "source": [
    "# Import dataset and dataloader\n",
    "datasets, dataloaders = DT_manager.get_train_val_test_data(mdp_constr=import_config['mdp_constr'], dataset_scenario=import_config['dataset_scenario'], timestep_norm=import_config['timestep_norm'], chunksize=import_config['chunksize'])\n",
    "train_dataset, val_dataset, test_dataset = datasets\n",
    "train_loader, eval_loader, test_loader = dataloaders\n"
   ]
  },
  {
   "cell_type": "code",
   "execution_count": null,
   "id": "a3759ed2-bcee-453a-9d4a-4f8c3b1d0fb8",
   "metadata": {},
   "outputs": [],
   "source": [
    "# Get the model and set it into eval mode\n",
    "model = DT_manager.get_DT_model(transformer_model_name, train_loader, eval_loader)\n",
    "model.eval();"
   ]
  },
  {
   "cell_type": "code",
   "execution_count": null,
   "id": "55f7a34f-3547-4c0c-898a-9185e356d67d",
   "metadata": {},
   "outputs": [],
   "source": [
    "# Sample from test dataloader\n",
    "import numpy as np\n",
    "import torch\n",
    "data_stats = test_loader.dataset.data_stats\n",
    "'''state_init = np.array([0.2,0.15+0.2,0,0,0,0])#np.array([0.22, 2.14, 1.53, 0, 0, 0])#np.array([1.58643470e-01,  5.06685234e-01, -1.07279630e+00, 0.0,0.0,0.0])#np.array([0.29490604, 2.34616295, 1.69898474,0,0,0])#\n",
    "state_final = np.array([3.2,2.3,np.pi,0,0,0])#np.array([3.31, 0.60, -1.28, 0, 0, 0])#np.array([3.25586406,  2.29016048, -0.80894559, 0.0, 0.0, 0.0])#np.array([3.15600952, 0.25998125, 0.99323413, 0,0,0])#\n",
    "test_sample = next(iter(test_loader))\n",
    "data_stats = test_loader.dataset.data_stats\n",
    "test_sample[0][0,:,:] = (torch.tensor(np.repeat(state_init[None,:], 200, axis=0)) - data_stats['states_mean'])/(data_stats['states_std'] + 1e-6)#(torch.tensor(xs[:-1,:]) - data_stats['states_mean'])/(data_stats['states_std'] + 1e-6)#\n",
    "test_sample[1][0,:,:] = torch.zeros((200,3))#(torch.tensor(us) - data_stats['actions_mean'])/(data_stats['actions_std'] + 1e-6)#\n",
    "test_sample[2][0,:,0] = torch.zeros((200,))#torch.from_numpy(compute_reward_to_go(test_sample[1][0,:,:]))#\n",
    "test_sample[3][0,:,0] = torch.zeros((200,))#torch.from_numpy(compute_constraint_to_go(test_sample[0][0,:,:].cpu().numpy(), obs_positions, obs_radii))#\n",
    "test_sample[4][0,:,:] = (torch.tensor(np.repeat(state_final[None,:], 200, axis=0)) - data_stats['goal_mean'])/(data_stats['goal_std'] + 1e-6)'''\n",
    "test_sample = test_loader.dataset.getix(27471)#next(iter(test_loader))# <- deterministic sample OR random sample -> next(iter(test_loader))#28040, 27471, 31454\n",
    "states_i, actions_i, rtgs_i, ctgs_i, ttgs_i, goal_i, timesteps_i, attention_mask_i, time_discr_i, time_sec_i, ix_i = test_sample\n",
    "x_init = (states_i[0,0,:] * data_stats['states_std'][0]) + (data_stats['states_mean'][0])\n",
    "x_final = (goal_i[0,0,:] * data_stats['goal_std'][0]) + (data_stats['goal_mean'][0])\n",
    "ttgs0 = (ttgs_i[0,:] * data_stats['ttgs_std'][0]) + (data_stats['ttgs_mean'][0])\n",
    "\n",
    "(x_init, x_final, ttgs0)"
   ]
  },
  {
   "cell_type": "code",
   "execution_count": null,
   "id": "6f5575a4",
   "metadata": {},
   "outputs": [],
   "source": [
    "# Use the model just to perform imitation learning\n",
    "print(test_sample[-1])\n",
    "DT_trajectory = DT_manager.use_model_for_imitation_learning(model, test_loader, test_sample, rtg_perc=1.0, ctg_perc=0., ttg=44, use_dynamics=True, ctg_clipped=True, chunksize=import_config['chunksize'])"
   ]
  },
  {
   "cell_type": "code",
   "execution_count": null,
   "id": "f18dc0ad",
   "metadata": {},
   "outputs": [],
   "source": [
    "dyn_trajectory, _ = DT_manager.torch_model_inference_dyn(model, test_loader, test_sample, rtg_perc=1.0, ctg_perc=0., ttg=44, ctg_clipped=True, chunksize=import_config['chunksize'], end_on_ttg=True)"
   ]
  },
  {
   "cell_type": "code",
   "execution_count": null,
   "id": "2d3fba65",
   "metadata": {},
   "outputs": [],
   "source": [
    "DT_trajectory['xypsi_dyn'] = dyn_trajectory['xypsi_dyn']\n",
    "DT_trajectory['dv_dyn'] = dyn_trajectory['dv_dyn']\n",
    "DT_trajectory['ttgs_dyn'] = dyn_trajectory['ttgs_dyn']"
   ]
  },
  {
   "cell_type": "code",
   "execution_count": null,
   "id": "528493ca",
   "metadata": {},
   "outputs": [],
   "source": [
    "# Print the index of the trajectory and plot\n",
    "print(test_sample[-1])\n",
    "DT_manager.plot_DT_trajectory(DT_trajectory)"
   ]
  },
  {
   "cell_type": "code",
   "execution_count": null,
   "id": "1115fd0c",
   "metadata": {},
   "outputs": [],
   "source": [
    "# Use the model to perform offline RL\n",
    "# Take the desired rtg0 from convex problem\n",
    "from dynamics.freeflyer import FreeflyerModel, ocp_no_obstacle_avoidance, ocp_obstacle_avoidance, np\n",
    "ffm = FreeflyerModel(verbose=True)\n",
    "traj, J, n_iter, status = ocp_no_obstacle_avoidance(ffm,x_init.cpu().numpy(),x_final.cpu().numpy())\n",
    "xs = traj['states']\n",
    "us = traj['actions_G']\n",
    "rtg_0 = -np.sum((np.linalg.norm(us, ord=1, axis=0)))\n",
    "\n",
    "# Use the model (open-loop / dyn-in-the-loop)\n",
    "ol_trajectory, runtime_DT = DT_manager.torch_model_inference_ol(model, test_loader, test_sample, rtg_perc=1., ctg_perc=0., rtg=rtg_0, ctg_clipped=True)\n",
    "dyn_trajectory, runtime_DT = DT_manager.torch_model_inference_dyn(model, test_loader, test_sample, rtg_perc=1., ctg_perc=0., rtg=rtg_0, ctg_clipped=True)"
   ]
  },
  {
   "cell_type": "code",
   "execution_count": null,
   "id": "e303e729",
   "metadata": {},
   "outputs": [],
   "source": [
    "# Print the index of the trajectory and plot\n",
    "DT_trajectory = {\n",
    "    'xypsi_true' : ((states_i[0,:,:].cpu() * data_stats['states_std']) + data_stats['states_mean']).T,\n",
    "    'xypsi_dyn' : dyn_trajectory['xypsi_dyn'],\n",
    "    'xypsi_ol' : ol_trajectory['xypsi_ol'],\n",
    "    'dv_true' : ((actions_i[0,:,:].cpu() * data_stats['actions_std']) + data_stats['actions_mean']).T,\n",
    "    'dv_dyn' : dyn_trajectory['dv_dyn'],\n",
    "    'dv_ol' : ol_trajectory['dv_ol'],\n",
    "    'time' : ol_trajectory['time']\n",
    "}\n",
    "print(test_sample[-1])\n",
    "DT_manager.plot_DT_trajectory(DT_trajectory)"
   ]
  },
  {
   "cell_type": "code",
   "execution_count": null,
   "id": "cb8c73ad",
   "metadata": {},
   "outputs": [],
   "source": [
    "import decision_transformer.ros_manage as ros_TTO_manager\n",
    "\n",
    "ros_model = ros_TTO_manager.get_only_DT_model(transformer_model_name, 6, 3)\n",
    "data_stats = np.load('saved_files/data_stats.npz',allow_pickle=True)['data_stats'].item()\n",
    "rosdyn_trajectory, rosruntime_DT = ros_TTO_manager.ros_model_inference_dyn(model, data_stats, x_init.cpu().numpy(), x_final.cpu().numpy(), rtg_perc=1., ctg_perc=0., rtg=rtg_0, ctg_clipped=True)"
   ]
  },
  {
   "cell_type": "code",
   "execution_count": null,
   "id": "6ec9c1d0",
   "metadata": {},
   "outputs": [],
   "source": [
    "DT_trajectory = {\n",
    "    'xypsi_true' : ((states_i[0,:,:].cpu() * data_stats['states_std']) + data_stats['states_mean']).T,\n",
    "    'xypsi_dyn' : rosdyn_trajectory['xypsi_dyn'],\n",
    "    'xypsi_ol' : dyn_trajectory['xypsi_dyn'],\n",
    "    'dv_true' : ((actions_i[0,:,:].cpu() * data_stats['actions_std']) + data_stats['actions_mean']).T,\n",
    "    'dv_dyn' : rosdyn_trajectory['dv_dyn'],\n",
    "    'dv_ol' : dyn_trajectory['dv_dyn'],\n",
    "    'time' : dyn_trajectory['time']\n",
    "}\n",
    "print(test_sample[-1])\n",
    "DT_manager.plot_DT_trajectory(DT_trajectory)"
   ]
  },
  {
   "cell_type": "markdown",
   "id": "96134f46",
   "metadata": {},
   "source": [
    "From this point onward -> experimental stuff"
   ]
  },
  {
   "cell_type": "code",
   "execution_count": null,
   "id": "9aabd19b",
   "metadata": {},
   "outputs": [],
   "source": [
    "from dynamics.freeflyer_time import *\n",
    "x_init = np.array([0.31222698,  1.02306884, -2.38257299, 0, 0, 0])#[0.19273452, 0.18552349, 2.39470136, 0, 0, 0])\n",
    "x_final = np.array([3.31099549,  2.1913098 , -5.40563789, 0, 0, 0])#[3.22172603, 1.76696898, 1.80025613, 0, 0, 0])\n",
    "final_time = 40.0\n",
    "qm = FreeflyerModel(verbose=True)\n",
    "traj_opt, J_cvx, scp_iter, status = ocp_no_obstacle_avoidance(qm,x_init,x_final,final_time)\n",
    "traj_scp, J_scp, status, scp_iter = ocp_obstacle_avoidance(qm, traj_opt['states'], traj_opt['actions_G'], x_init, x_final)"
   ]
  },
  {
   "cell_type": "code",
   "execution_count": null,
   "id": "3311b5ed",
   "metadata": {},
   "outputs": [],
   "source": [
    "import torch\n",
    "# Sample from test dataloader\n",
    "data_stats = test_loader.dataset.data_stats\n",
    "test_sample = test_loader.dataset.getix(0)# <- deterministic sample OR random sample -> next(iter(test_loader))#\n",
    "'''states_i, actions_i, rtgs_i, ctgs_i, goal_i, timesteps_i, attention_mask_i, time_discr_i, time_sec_i, ix_i = test_sample\n",
    "x_init = (states_i[0,0,:] * data_stats['states_std'][0]) + (data_stats['states_mean'][0])\n",
    "x_final = (goal_i[0,0,:] * data_stats['goal_std'][0]) + (data_stats['goal_mean'][0])'''\n",
    "#x_init, x_final = sample_init_target()\n",
    "test_sample[0][0,:,:] = (torch.tensor(np.repeat(x_init[None,:], 200, axis=0)) - data_stats['states_mean'])/(data_stats['states_std'] + 1e-6)#(torch.tensor(xs[:-1,:]) - data_stats['states_mean'])/(data_stats['states_std'] + 1e-6)#\n",
    "test_sample[1][0,:,:] = torch.zeros((200,3))#(torch.tensor(us) - data_stats['actions_mean'])/(data_stats['actions_std'] + 1e-6)#\n",
    "test_sample[2][0,:,0] = torch.zeros((200,))#torch.from_numpy(compute_reward_to_go(test_sample[1][0,:,:]))#\n",
    "test_sample[3][:,0] = torch.zeros((200,))#torch.from_numpy(compute_constraint_to_go(test_sample[0][0,:,:].cpu().numpy(), obs_positions, obs_radii))#\n",
    "test_sample[4][:,0] = torch.zeros((200,))\n",
    "test_sample[5][0,:,:] = (torch.tensor(np.repeat(x_final[None,:], 200, axis=0)) - data_stats['goal_mean'])/(data_stats['goal_std'] + 1e-6)\n",
    "print(test_sample[-1])\n",
    "DT_trajectory = DT_manager.use_model_for_imitation_learning(model, test_loader, test_sample, ctg_perc=0., rtg=-J_cvx, ttg=final_time, use_dynamics=True, ctg_clipped=True, chunksize=import_config['chunksize'])\n",
    "dyn_trajectory, _ = DT_manager.torch_model_inference_dyn(model, test_loader, test_sample, ctg_perc=0, rtg=-J_cvx, ttg=final_time, ctg_clipped=True, chunksize=import_config['chunksize'], end_on_ttg=True)"
   ]
  },
  {
   "cell_type": "code",
   "execution_count": null,
   "id": "edd5f1a0",
   "metadata": {},
   "outputs": [],
   "source": [
    "states_ws_DT = np.hstack((DT_trajectory['xypsi_dyn'], x_final.reshape(-1,1))) # set warm start\n",
    "actions_ws_DT = DT_trajectory['dv_dyn']\n",
    "np.sum(np.linalg.norm(actions_ws_DT, ord=1, axis=0))"
   ]
  },
  {
   "cell_type": "code",
   "execution_count": null,
   "id": "9884c5f5",
   "metadata": {},
   "outputs": [],
   "source": [
    "traj_scp_TTO, J_scp_TTO, status_scp_TTO, scp_TTO_iter = ocp_obstacle_avoidance(qm, states_ws_DT, actions_ws_DT, x_init, x_final)"
   ]
  },
  {
   "cell_type": "code",
   "execution_count": null,
   "id": "735a9383",
   "metadata": {},
   "outputs": [],
   "source": [
    "model2 = DT_manager.get_DT_model('checkpoint_quad_random_forest_ctgrtg', train_loader, eval_loader)\n",
    "model2.eval();\n",
    "DT_trajectory2,_ = DT_manager.use_model_for_imitation_learning(model2, train_loader, test_sample, ctg_perc=1., use_dynamics=True, output_attentions=True)"
   ]
  },
  {
   "cell_type": "code",
   "execution_count": null,
   "id": "08ab2681",
   "metadata": {},
   "outputs": [],
   "source": [
    "from dynamics.quadrotor import *\n",
    "qm = QuadModel(verbose=True)\n",
    "xs, us, J, status = ocp_no_obstacle_avoidance(qm,x_init,x_final,initial_guess='line')\n",
    "rtg_0 = -np.sum((np.linalg.norm(us.T, axis=0))**2)/2\n",
    "dyn_trajectory, runtime_DT = DT_manager.torch_model_inference_dyn(model, test_loader, test_sample, rtg_perc=1., ctg_perc=0., rtg=rtg_0, ctg_clipped=True)"
   ]
  },
  {
   "cell_type": "code",
   "execution_count": null,
   "id": "1e07566c",
   "metadata": {},
   "outputs": [],
   "source": [
    "import matplotlib.pyplot as plt\n",
    "k = 1\n",
    "plt.figure()\n",
    "plt.plot(dyn_trajectory['xyz_dyn'][k,:])\n",
    "plt.plot(DT_trajectory['xyz_dyn'][k,:])\n",
    "plt.show()"
   ]
  },
  {
   "cell_type": "code",
   "execution_count": null,
   "id": "64b14a57",
   "metadata": {},
   "outputs": [],
   "source": [
    "# Print the index of the trajectory and plot\n",
    "DT_trajectory['xyz_ol'] = dyn_trajectory['xyz_dyn']\n",
    "DT_trajectory['dv_ol'] = dyn_trajectory['dv_dyn']\n",
    "print(test_sample[-1])\n",
    "DT_manager.plot_DT_trajectory(DT_trajectory)"
   ]
  },
  {
   "cell_type": "code",
   "execution_count": null,
   "id": "93fe7ed1",
   "metadata": {},
   "outputs": [],
   "source": [
    "dist, viol = check_koz_constraint(dyn_trajectory['xyz_dyn'].T,obs_positions,obs_radii)"
   ]
  },
  {
   "cell_type": "code",
   "execution_count": null,
   "id": "b2ed81aa",
   "metadata": {},
   "outputs": [],
   "source": [
    "import matplotlib.pyplot as plt\n",
    "plt.figure()\n",
    "plt.plot(dist.T)\n",
    "plt.plot([0, 100],[0, 0],'r-')\n",
    "plt.xlabel('time')\n",
    "plt.ylabel('distance from obstacles')\n",
    "plt.show()"
   ]
  },
  {
   "cell_type": "code",
   "execution_count": null,
   "id": "1ba17957",
   "metadata": {},
   "outputs": [],
   "source": [
    "states_ws_DT = np.append(dyn_trajectory['xyz_dyn'], (dyn_trajectory['xyz_dyn'][:,-1] + qm.f(dyn_trajectory['xyz_dyn'][:, -1], dyn_trajectory['dv_dyn'][:, -1])*dt).reshape((6,1)), 1).T\n",
    "xs, us, J, status, scp_iter = ocp_obstacle_avoidance(qm, states_ws_DT, dyn_trajectory['dv_dyn'].T, x_init, x_final)"
   ]
  },
  {
   "cell_type": "code",
   "execution_count": null,
   "id": "05f813c9",
   "metadata": {},
   "outputs": [],
   "source": [
    "xs2, us2, J, status = ocp_no_obstacle_avoidance(qm, x_init, x_final, initial_guess='keep')\n",
    "print('-----------------')\n",
    "xs2, us2, J, status, scp_iter = ocp_obstacle_avoidance(qm, xs2, us2, x_init, x_final)"
   ]
  },
  {
   "cell_type": "code",
   "execution_count": null,
   "id": "32f27261",
   "metadata": {},
   "outputs": [],
   "source": [
    "import matplotlib.pyplot as plt\n",
    "fig = plt.figure(figsize=(12,6))\n",
    "ax = fig.add_subplot(projection='3d')\n",
    "ax.view_init(elev=10., azim=-20)\n",
    "\n",
    "ax.scatter(x_init[0], x_init[1], x_init[2], color='k')\n",
    "ax.scatter(x_final[0], x_final[1], x_final[2], color='k')\n",
    "#ax.scatter(xs[8,0], xs[8,1], xs[8,2], color='k')\n",
    "\n",
    "for i in range(n_obs):\n",
    "    p = obs_positions[i]\n",
    "    r = obs_radii[i]\n",
    "    u = np.linspace(0, 2 * np.pi, 100)\n",
    "    v = np.linspace(0, np.pi, 100)\n",
    "    x = p[0] + r * np.outer(np.cos(u), np.sin(v))\n",
    "    y = p[1] + r * np.outer(np.sin(u), np.sin(v))\n",
    "    z = p[2] + r * np.outer(np.ones(np.size(u)), np.cos(v))\n",
    "    ax.plot_surface(x, y, z, rstride=1, cstride=1, color='r', linewidth=0, alpha=0.3)\n",
    "ax.plot3D(xs[:,0], xs[:,1], xs[:,2], color='b', linewidth=1)\n",
    "ax.plot3D(xs2[:,0], xs2[:,1], xs2[:,2], color='g', linewidth=1)\n",
    "\n",
    "plt.show()"
   ]
  },
  {
   "cell_type": "code",
   "execution_count": null,
   "id": "483892ec",
   "metadata": {},
   "outputs": [],
   "source": []
  }
 ],
 "metadata": {
  "kernelspec": {
   "display_name": "Python 3 (ipykernel)",
   "language": "python",
   "name": "python3"
  },
  "language_info": {
   "codemirror_mode": {
    "name": "ipython",
    "version": 3
   },
   "file_extension": ".py",
   "mimetype": "text/x-python",
   "name": "python",
   "nbconvert_exporter": "python",
   "pygments_lexer": "ipython3",
   "version": "3.10.12"
  }
 },
 "nbformat": 4,
 "nbformat_minor": 5
}

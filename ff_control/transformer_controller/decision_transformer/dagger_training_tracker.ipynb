{
 "cells": [
  {
   "cell_type": "code",
   "execution_count": null,
   "metadata": {},
   "outputs": [],
   "source": [
    "import numpy as np\n",
    "import matplotlib.pyplot as plt\n",
    "%matplotlib widget\n",
    "import os\n",
    "import sys\n",
    "root_folder = os.path.abspath(os.path.dirname(os.getcwd()))\n",
    "sys.path.append(root_folder)\n",
    "\n",
    "dagger_training = True\n",
    "self_training = False\n",
    "if self_training:\n",
    "    dagger_training = True\n",
    "\n",
    "f = []\n",
    "f2 = []\n",
    "f3 = []\n",
    "unfeas_info = []\n",
    "log = []\n",
    "log2 = []\n",
    "log3 = []\n",
    "n_iter = 1\n",
    "for i in range(n_iter):\n",
    "    if self_training:\n",
    "        f.append(np.load(root_folder+'/decision_transformer/saved_files/checkpoints/checkpoint_ff_ctgrtg_self_' + str(i) + '/log.npz', allow_pickle=True))\n",
    "        unfeas_info.append({'i_unfeas_scp_cvx' : f[i]['i_unfeas_scp_cvx'], 'i_unfeas_self' : f[i]['i_unfeas_self']})\n",
    "    else:\n",
    "        if dagger_training:\n",
    "            #f.append(np.load(root_folder+'/decision_transformer/saved_files/checkpoints/1_dagger_exp_art/checkpoint_ff_ctgrtg_art_cl_' + str(i) + '/log.npz', allow_pickle=True))\n",
    "            f.append(np.load(root_folder+'/decision_transformer/saved_files/checkpoints/checkpoint_ff_time40_100_chunk100R_ctgrtg12000_cl_' + str(i) + '/log.npz', allow_pickle=True))\n",
    "            #f.append(np.load(root_folder+'/decision_transformer/saved_files/checkpoints/checkpoint_ff_ctgrtg_v02_cl_0/log.npz', allow_pickle=True))\n",
    "            #unfeas_info.append({'i_unfeas_scp_cvx' : f[i]['i_unfeas_scp_cvx'], 'i_unfeas_self' : f[i]['i_unfeas_self']})\n",
    "        else:\n",
    "            f.append(np.load(root_folder+'/decision_transformer/saved_files/checkpoints/checkpoint_ff_time40_100_chunkNone_ctgrtg/log.npz', allow_pickle=True))\n",
    "            f2.append(np.load(root_folder+'/decision_transformer/saved_files/checkpoints/checkpoint_ff_time40_100_chunk_ctgrtg/log.npz', allow_pickle=True))\n",
    "            f3.append(np.load(root_folder+'/decision_transformer/saved_files/checkpoints/checkpoint_ff_time40_100_chunk100R_ctgrtg/log.npz', allow_pickle=True))\n",
    "    log.append(f[i]['log'].item())\n",
    "    if len(f2) > 0:\n",
    "        log2.append(f2[i]['log'].item())\n",
    "    if len(f3) > 0:\n",
    "        log3.append(f3[i]['log'].item())"
   ]
  },
  {
   "cell_type": "code",
   "execution_count": null,
   "metadata": {},
   "outputs": [],
   "source": [
    "# Overall open-loop evaluation loss\n",
    "plt.figure()\n",
    "for i in range(n_iter):\n",
    "    if dagger_training:\n",
    "        plt.plot(np.arange(0,51)+i*50,log[i]['loss_ol'])\n",
    "    else:\n",
    "        plt.plot(log[i]['loss'])\n",
    "        if len(log2) > 0:\n",
    "            plt.plot(log2[i]['loss'])\n",
    "        if len(log3) > 0:\n",
    "            plt.plot(log3[i]['loss'])\n",
    "        plt.yscale('log')"
   ]
  },
  {
   "cell_type": "code",
   "execution_count": null,
   "metadata": {},
   "outputs": [],
   "source": [
    "plt.figure()\n",
    "for i in range(n_iter):\n",
    "    plt.plot(np.arange(0,51)+i*50,log[i]['loss_cl'])"
   ]
  },
  {
   "cell_type": "code",
   "execution_count": null,
   "metadata": {},
   "outputs": [],
   "source": [
    "# Open-loop evaluation losses divided by states/actions/time-to-gos\n",
    "setting = 'cl'\n",
    "plt.figure()\n",
    "for i in range(n_iter):\n",
    "    if dagger_training:\n",
    "        plt.plot(np.arange(0,51)+i*50,log[i]['loss_state_'+setting])\n",
    "    else:\n",
    "        plt.plot(log[i]['loss_state'])\n",
    "        if len(log2) > 0:\n",
    "            plt.plot(log2[i]['loss_state'])\n",
    "        if len(log3) > 0:\n",
    "            plt.plot(log3[i]['loss_state'])\n",
    "        plt.yscale('log')\n",
    "\n",
    "plt.figure()\n",
    "for i in range(n_iter):\n",
    "    if dagger_training:\n",
    "        plt.plot(np.arange(0,51)+i*50,log[i]['loss_action_'+setting])\n",
    "    else:\n",
    "        plt.plot(log[i]['loss_action'])\n",
    "        if len(log2) > 0:\n",
    "            plt.plot(log2[i]['loss_action'])\n",
    "        if len(log3) > 0:\n",
    "            plt.plot(log3[i]['loss_action'])\n",
    "        plt.yscale('log')\n",
    "\n",
    "plt.figure()\n",
    "for i in range(n_iter):\n",
    "    if dagger_training:\n",
    "        plt.plot(np.arange(0,51)+i*50,log[i]['loss_ttg_'+setting])\n",
    "    else:\n",
    "        plt.yscale('log')\n",
    "        plt.plot(log[i]['loss_ttg'])\n",
    "        if len(log2) > 0:\n",
    "            plt.plot(log2[i]['loss_ttg'])\n",
    "        if len(log3) > 0:\n",
    "            plt.plot(log3[i]['loss_ttg'])"
   ]
  },
  {
   "cell_type": "code",
   "execution_count": null,
   "metadata": {},
   "outputs": [],
   "source": [
    "if self_training:\n",
    "    plt.figure()\n",
    "    for i in range(n_iter):\n",
    "        plt.scatter(i,len(unfeas_info[i]['i_unfeas_self']))"
   ]
  },
  {
   "cell_type": "code",
   "execution_count": null,
   "metadata": {},
   "outputs": [],
   "source": [
    "dataset = []\n",
    "#dataset.append(np.load(root_folder+'/optimization/saved_files/closed_loop/1_dagger_exp_art/dagger_checkpoint_ff_ctgrtg_art.npz'))\n",
    "dataset.append(np.load(root_folder+'/optimization/saved_files/closed_loop/dagger_checkpoint_ff_time40_100_chunk100R_ctgrtg12000.npz'))\n",
    "for i in range(n_iter-1):\n",
    "    #dataset.append(np.load(root_folder+'/optimization/saved_files/closed_loop/1_dagger_exp_art/dagger_checkpoint_ff_ctgrtg_art_cl' + str(i) + '.npz'))\n",
    "    dataset.append(np.load(root_folder+'/optimization/saved_files/closed_loop/dagger_checkpoint_ff_time40_100_chunk100R_ctgrtg12000_cl' + str(i) + '.npz'))"
   ]
  },
  {
   "cell_type": "code",
   "execution_count": null,
   "metadata": {},
   "outputs": [],
   "source": [
    "dataset[0]"
   ]
  },
  {
   "cell_type": "code",
   "execution_count": null,
   "metadata": {},
   "outputs": [],
   "source": [
    "for i in range(n_iter):\n",
    "    print('DAGGER_ITERATION', str(i), ': Dataset dimension', len(dataset[i]['dataset_ix']))"
   ]
  },
  {
   "cell_type": "code",
   "execution_count": null,
   "metadata": {},
   "outputs": [],
   "source": [
    "for i in range(n_iter):\n",
    "    print('DAGGER_ITERATION', str(i), ': Number of cvx infeasible', len(dataset[i]['i_unfeas_cvx']))\n",
    "    print('DAGGER_ITERATION', str(i), ': Number of closed loop infeasible', len(dataset[i]['i_unfeas_artMPC']))"
   ]
  },
  {
   "cell_type": "code",
   "execution_count": null,
   "metadata": {},
   "outputs": [],
   "source": [
    "dataset[0]['dataset_ix'][dataset[0]['i_unfeas_artMPC'][0]],\n",
    "dataset[0]['J_cvx'][dataset[0]['i_unfeas_artMPC'][0]]"
   ]
  },
  {
   "cell_type": "code",
   "execution_count": null,
   "metadata": {},
   "outputs": [],
   "source": [
    "j = 1\n",
    "i_dag = 0\n",
    "plt.figure()\n",
    "plt.plot(dataset[i_dag]['target_action'][j,:,0].T)\n",
    "plt.plot(dataset[i_dag]['context_action'][j,:,0].T)\n",
    "\n",
    "plt.figure()\n",
    "plt.plot(dataset[i_dag]['target_action'][j,:,1].T)\n",
    "plt.plot(dataset[i_dag]['context_action'][j,:,1].T)\n",
    "\n",
    "plt.figure()\n",
    "plt.plot(dataset[i_dag]['target_action'][j,:,2].T)\n",
    "plt.plot(dataset[i_dag]['context_action'][j,:,2].T)"
   ]
  },
  {
   "cell_type": "code",
   "execution_count": null,
   "metadata": {},
   "outputs": [],
   "source": [
    "dataset[i_dag]['i_unfeas_artMPC']"
   ]
  },
  {
   "cell_type": "code",
   "execution_count": null,
   "metadata": {},
   "outputs": [],
   "source": [
    "plt.figure()\n",
    "ax = plt.axes()\n",
    "from matplotlib.patches import Rectangle, Circle\n",
    "from optimization.ff_scenario import table, obs, robot_radius\n",
    "for i in range(1):\n",
    "    if dataset[i_dag]['context_ctg'][i,0,0] == 0:\n",
    "        #ax.plot(datasets[0].data['rtgs'][i,:]*0)\n",
    "        ax.plot(dataset[i_dag]['context_state'][i,:,0], dataset[i_dag]['context_state'][i,:,1])\n",
    "        ax.plot(dataset[i_dag]['target_state'][i,:,0], dataset[i_dag]['target_state'][i,:,1])\n",
    "        #ax.scatter((datasets[i_d].data['goal'][i,:,0]*data_stats['goal_std'][:,0]) + data_stats['goal_mean'][:,0], (datasets[i_d].data['goal'][i,:,1]*data_stats['goal_std'][:,1]) + data_stats['goal_mean'][:,1], marker = '*', color='r')\n",
    "    '''else:\n",
    "        ax.plot(datasets[0].data['rtgs'][i,:],'r')'''\n",
    "ax.add_patch(Rectangle((0,0), table['xy_up'][0], table['xy_up'][1], fc=(0.5,0.5,0.5,0.2), ec='k', label='table', zorder=2.5))\n",
    "for n_obs in range(obs['radius'].shape[0]):\n",
    "    label_obs = 'obs' if n_obs == 0 else None\n",
    "    label_robot = 'robot radius' if n_obs == 0 else None\n",
    "    ax.add_patch(Circle(obs['position'][n_obs,:], obs['radius'][n_obs], fc='r', label=label_obs, zorder=2.5))\n",
    "    ax.add_patch(Circle(obs['position'][n_obs,:], obs['radius'][n_obs]+robot_radius, fc='r', alpha=0.2, label=label_robot, zorder=2.5))\n",
    "    \n",
    "print('Action loss: ', torch.mean((dataset[i_dag]['context_action'][:9,:,:] - dataset[i_dag]['target_action'][:9,:,:])** 2))\n",
    "plt.show()\n"
   ]
  },
  {
   "cell_type": "code",
   "execution_count": null,
   "metadata": {},
   "outputs": [],
   "source": [
    "\n",
    "for i_state in range(6):\n",
    "    plt.figure()\n",
    "    plt.plot(dataset[i_dag]['context_state'][j,:,i_state])"
   ]
  },
  {
   "cell_type": "code",
   "execution_count": null,
   "metadata": {},
   "outputs": [],
   "source": []
  }
 ],
 "metadata": {
  "kernelspec": {
   "display_name": "Transformer",
   "language": "python",
   "name": "python3"
  },
  "language_info": {
   "codemirror_mode": {
    "name": "ipython",
    "version": 3
   },
   "file_extension": ".py",
   "mimetype": "text/x-python",
   "name": "python",
   "nbconvert_exporter": "python",
   "pygments_lexer": "ipython3",
   "version": "3.10.12"
  }
 },
 "nbformat": 4,
 "nbformat_minor": 2
}

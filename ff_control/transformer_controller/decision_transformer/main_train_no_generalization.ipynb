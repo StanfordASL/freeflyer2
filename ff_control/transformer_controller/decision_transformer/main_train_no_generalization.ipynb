{
 "cells": [
  {
   "cell_type": "code",
   "execution_count": null,
   "id": "fa396cab-6f0c-4581-a3d5-e42e072a5cba",
   "metadata": {},
   "outputs": [],
   "source": [
    "import os\n",
    "import sys\n",
    "root_folder = os.path.abspath(os.path.dirname(os.getcwd()))\n",
    "sys.path.append(root_folder)\n",
    "import numpy as np\n",
    "import numpy.linalg as la\n",
    "import matplotlib.pyplot as plt\n",
    "from transformers import DecisionTransformerConfig\n",
    "from decision_transformer.art import AutonomousFreeflyerTransformer\n",
    "import torch\n",
    "import decision_transformer.manage as ART_manager\n",
    "from decision_transformer.manage import device"
   ]
  },
  {
   "cell_type": "markdown",
   "id": "d8e48658-7dec-4936-a4c9-5f09295fad92",
   "metadata": {},
   "source": [
    "# Decision Transformer\n",
    "Controllare nell'importazione del dataset se la permutation ha fatto in modo che ci siano differenze tra istante finale ed iniziale"
   ]
  },
  {
   "cell_type": "code",
   "execution_count": null,
   "id": "8ccc322a-7576-4f11-9e7c-f14a6171bb1a",
   "metadata": {},
   "outputs": [],
   "source": [
    "model_name_4_saving = 'checkpoint_ff_ctgrtg'\n",
    "mdp_constr = True\n",
    "datasets, dataloaders = ART_manager.get_train_val_test_data(mdp_constr=mdp_constr, timestep_norm=False)\n",
    "train_loader, eval_loader, test_loader = dataloaders\n",
    "n_state = train_loader.dataset.n_state\n",
    "n_data = train_loader.dataset.n_data\n",
    "n_action = train_loader.dataset.n_action\n",
    "n_time = train_loader.dataset.max_len"
   ]
  },
  {
   "cell_type": "code",
   "execution_count": null,
   "id": "e8b228fe",
   "metadata": {},
   "outputs": [],
   "source": [
    "import matplotlib.pyplot as plt\n",
    "%matplotlib ipympl\n",
    "plt.figure()\n",
    "ax = plt.axes()\n",
    "data_stats = datasets[0].data_stats\n",
    "for i in range(1000):\n",
    "    if datasets[0].data['ctgs'][i,0] == 0:\n",
    "        ax.plot(datasets[0].data['rtgs'][i,:]*0)\n",
    "        #ax.plot((datasets[0].data['states'][i,:,0]*data_stats['states_std'][:,0]) + data_stats['states_mean'][:,0], (datasets[0].data['states'][i,:,1]*data_stats['states_std'][:,1]) + data_stats['states_mean'][:,1])\n",
    "        #ax.scatter((datasets[0].data['goal'][i,:,0]*data_stats['goal_std'][:,0]) + data_stats['goal_mean'][:,0], (datasets[0].data['goal'][i,:,1]*data_stats['goal_std'][:,1]) + data_stats['goal_mean'][:,1], marker = '*', color='r')\n",
    "    else:\n",
    "        ax.plot(datasets[0].data['rtgs'][i,:],'r')\n",
    "plt.show()"
   ]
  },
  {
   "cell_type": "code",
   "execution_count": null,
   "id": "946d1332-21bf-4730-9e72-b7ab358f1ef5",
   "metadata": {},
   "outputs": [],
   "source": [
    "config = DecisionTransformerConfig(\n",
    "    state_dim=n_state, \n",
    "    act_dim=n_action,\n",
    "    hidden_size=384,\n",
    "    max_ep_len=n_time,\n",
    "    vocab_size=1,\n",
    "    action_tanh=False,\n",
    "    n_positions=1024,\n",
    "    n_layer=6,\n",
    "    n_head=6,\n",
    "    n_inner=None,\n",
    "    resid_pdrop=0.1,\n",
    "    embd_pdrop=0.1,\n",
    "    attn_pdrop=0.1,\n",
    "    )\n",
    "model = AutonomousFreeflyerTransformer(config)\n",
    "model_size = sum(t.numel() for t in model.parameters())\n",
    "print(f\"GPT size: {model_size/1000**2:.1f}M parameters\")\n",
    "model.to(device);"
   ]
  },
  {
   "cell_type": "code",
   "execution_count": null,
   "id": "43c8031a-b827-48e9-8cb4-cf4fb5e1b239",
   "metadata": {},
   "outputs": [],
   "source": [
    "from torch.optim import AdamW\n",
    "from accelerate import Accelerator\n",
    "from transformers import get_scheduler\n",
    "optimizer = AdamW(model.parameters(), lr=3e-5)\n",
    "accelerator = Accelerator(mixed_precision='no', gradient_accumulation_steps=8)\n",
    "model, optimizer, train_dataloader, eval_dataloader = accelerator.prepare(\n",
    "    model, optimizer, train_loader, eval_loader\n",
    ")\n",
    "num_train_epochs = 1\n",
    "num_update_steps_per_epoch = len(train_dataloader)\n",
    "num_training_steps = 10000000000\n",
    "\n",
    "lr_scheduler = get_scheduler(\n",
    "    name=\"linear\",\n",
    "    optimizer=optimizer,\n",
    "    num_warmup_steps=10,\n",
    "    num_training_steps=num_training_steps,\n",
    ")\n",
    "\n",
    "# To activate only when starting from a pretrained model\n",
    "# accelerator.load_state(root_folder + '/decision_transformer/saved_files/checkpoints/' + model_name_4_dataset)"
   ]
  },
  {
   "cell_type": "code",
   "execution_count": null,
   "id": "bedb6f86-20e6-4ba8-ad2b-69a9c0988912",
   "metadata": {},
   "outputs": [],
   "source": [
    "eval_iters = 100\n",
    "@torch.no_grad()\n",
    "def evaluate():\n",
    "    model.eval()\n",
    "    losses = []\n",
    "    losses_state = []\n",
    "    losses_action = []\n",
    "    for step in range(eval_iters):\n",
    "        data_iter = iter(eval_dataloader)\n",
    "        states_i, actions_i, rtgs_i, ctgs_i, goal_i, timesteps_i, attention_mask_i, _, _, _ = next(data_iter)\n",
    "        with torch.no_grad():\n",
    "            state_preds, action_preds = model(\n",
    "                states=states_i,\n",
    "                actions=actions_i,\n",
    "                goal=goal_i,\n",
    "                returns_to_go=rtgs_i,\n",
    "                constraints_to_go=ctgs_i,\n",
    "                timesteps=timesteps_i,\n",
    "                attention_mask=attention_mask_i,\n",
    "                return_dict=False,\n",
    "            )\n",
    "        loss_i = torch.mean((action_preds - actions_i) ** 2)\n",
    "        loss_i_state = torch.mean((state_preds[:,:-1,:] - states_i[:,1:,:]) ** 2)\n",
    "        losses.append(accelerator.gather(loss_i + loss_i_state))\n",
    "        losses_state.append(accelerator.gather(loss_i_state))\n",
    "        losses_action.append(accelerator.gather(loss_i))\n",
    "    loss = torch.mean(torch.tensor(losses))\n",
    "    loss_state = torch.mean(torch.tensor(losses_state))\n",
    "    loss_action = torch.mean(torch.tensor(losses_action))\n",
    "    model.train()\n",
    "    return loss.item(), loss_state.item(), loss_action.item()"
   ]
  },
  {
   "cell_type": "code",
   "execution_count": null,
   "id": "45b42291",
   "metadata": {},
   "outputs": [],
   "source": [
    "eval_loss, loss_state, loss_action = evaluate()\n",
    "accelerator.print({\"loss/eval\": eval_loss, \"loss/state\": loss_state, \"loss/action\": loss_action})"
   ]
  },
  {
   "cell_type": "markdown",
   "id": "05373d18",
   "metadata": {},
   "source": [
    "Verificare quali istanti temporali devono essere confrontati per il calcolo delle losses di azione/stato/reward/constraint"
   ]
  },
  {
   "cell_type": "code",
   "execution_count": null,
   "id": "7e46f092-5eea-4cda-8a9f-5124ad225d45",
   "metadata": {
    "scrolled": true
   },
   "outputs": [],
   "source": [
    "\n",
    "eval_steps = 500\n",
    "samples_per_step = accelerator.state.num_processes * train_loader.batch_size\n",
    "torch.manual_seed(4)\n",
    "\n",
    "model.train()\n",
    "completed_steps = 0\n",
    "for epoch in range(num_train_epochs):\n",
    "    for step, batch in enumerate(train_dataloader, start=0):\n",
    "        with accelerator.accumulate(model):\n",
    "            states_i, actions_i, rtgs_i, ctgs_i, goal_i, timesteps_i, attention_mask_i, _, _, _ = batch\n",
    "            state_preds, action_preds = model(\n",
    "                states=states_i,\n",
    "                actions=actions_i,\n",
    "                goal=goal_i,\n",
    "                returns_to_go=rtgs_i,\n",
    "                constraints_to_go=ctgs_i,\n",
    "                timesteps=timesteps_i,\n",
    "                attention_mask=attention_mask_i,\n",
    "                return_dict=False,\n",
    "            )\n",
    "            loss_i_action = torch.mean((action_preds - actions_i) ** 2)\n",
    "            loss_i_state = torch.mean((state_preds[:,:-1,:] - states_i[:,1:,:]) ** 2)\n",
    "            loss = loss_i_action + loss_i_state\n",
    "            if step % 100 == 0:\n",
    "                accelerator.print(\n",
    "                    {\n",
    "                        \"lr\": lr_scheduler.get_lr(),\n",
    "                        \"samples\": step * samples_per_step,\n",
    "                        \"steps\": completed_steps,\n",
    "                        \"loss/train\": loss.item(),\n",
    "                    }\n",
    "                )\n",
    "            accelerator.backward(loss)\n",
    "            accelerator.clip_grad_norm_(model.parameters(), 1.0)\n",
    "            optimizer.step()\n",
    "            lr_scheduler.step()\n",
    "            optimizer.zero_grad()\n",
    "            completed_steps += 1\n",
    "            if (step % (eval_steps)) == 0:\n",
    "                eval_loss, loss_state, loss_action = evaluate()\n",
    "                accelerator.print({\"loss/eval\": eval_loss, \"loss/state\": loss_state, \"loss/action\": loss_action})\n",
    "                model.train()\n",
    "                accelerator.wait_for_everyone()\n",
    "            if (step % (eval_steps*10)) == 0:\n",
    "                print('Saving model..')\n",
    "                accelerator.save_state(root_folder+'/decision_transformer/saved_files/checkpoints/'+model_name_4_saving)"
   ]
  },
  {
   "cell_type": "markdown",
   "id": "118ae1d0-7a88-47d6-9a70-02fbe4ccb598",
   "metadata": {},
   "source": [
    "TODO: Need to implement inference function to predict with cost-to-go formulation both with dynamics and open-loop"
   ]
  },
  {
   "cell_type": "code",
   "execution_count": null,
   "id": "200e9b53-5bad-45cb-bee6-738dc0243680",
   "metadata": {},
   "outputs": [],
   "source": [
    "eval_loss, loss_state, loss_action, loss_reward, loss_constraint = evaluate()\n",
    "accelerator.print({\"loss/eval\": eval_loss, \"loss/state\": loss_state, \"loss/action\": loss_action, \"loss/reward\": loss_reward, \"loss/constraint\": loss_constraint})"
   ]
  }
 ],
 "metadata": {
  "kernelspec": {
   "display_name": "Python 3 (ipykernel)",
   "language": "python",
   "name": "python3"
  },
  "language_info": {
   "codemirror_mode": {
    "name": "ipython",
    "version": 3
   },
   "file_extension": ".py",
   "mimetype": "text/x-python",
   "name": "python",
   "nbconvert_exporter": "python",
   "pygments_lexer": "ipython3",
   "version": "3.10.12"
  }
 },
 "nbformat": 4,
 "nbformat_minor": 5
}
